{
 "cells": [
  {
   "cell_type": "code",
   "execution_count": null,
   "id": "902f2ff1",
   "metadata": {},
   "outputs": [],
   "source": [
    "import cv2\n",
    "import numpy as np\n",
    "import glob"
   ]
  },
  {
   "cell_type": "code",
   "execution_count": null,
   "id": "646b1f1d",
   "metadata": {},
   "outputs": [],
   "source": [
    "from sklearn.svm import SVC\n",
    "from sklearn.model_selection import train_test_split\n",
    "from sklearn.metrics import accuracy_score"
   ]
  },
  {
   "cell_type": "code",
   "execution_count": null,
   "id": "025dec16",
   "metadata": {},
   "outputs": [],
   "source": [
    "def load_dataset():\n",
    "    images =[]\n",
    "    labels =[]\n",
    "    for filename in glob.glob('trainingset/*.jpg'):\n",
    "        img = cv2.imread(filename)\n",
    "        img = cv2.resize(img, (100, 100)) \n",
    "        images.append(img)\n",
    "        labels.append(1)\n",
    "    for filename in glob.glob('others/*.jpg'):\n",
    "        img = cv2.imread(filename)\n",
    "        img = cv2.resize(img, (100, 100))\n",
    "        images.append(img)\n",
    "        labels.append(0)\n",
    "    return images, labels\n",
    "    "
   ]
  },
  {
   "cell_type": "code",
   "execution_count": null,
   "id": "de9640e4",
   "metadata": {},
   "outputs": [],
   "source": [
    "#Data Preprocessing\n",
    "def preprocess_dataset(images, labels):\n",
    "    images = np.array(images)\n",
    "    labels = np.array(labels)\n",
    "    images = images / 255.0\n",
    "    images = images.reshape(images.shape[0], -1)\n",
    "    \n",
    "    return images, labels"
   ]
  },
  {
   "cell_type": "code",
   "execution_count": null,
   "id": "de9b8d13",
   "metadata": {},
   "outputs": [],
   "source": [
    "images, labels = load_dataset()"
   ]
  },
  {
   "cell_type": "code",
   "execution_count": null,
   "id": "6293da74",
   "metadata": {},
   "outputs": [],
   "source": [
    "images,labels = preprocess_dataset(images, labels)"
   ]
  },
  {
   "cell_type": "code",
   "execution_count": null,
   "id": "1c74fc58",
   "metadata": {},
   "outputs": [],
   "source": [
    "X_train, X_test, y_train, y_test = train_test_split(images, labels, test_size=0.2, random_state=42)"
   ]
  },
  {
   "cell_type": "code",
   "execution_count": null,
   "id": "0b9a73ae",
   "metadata": {},
   "outputs": [],
   "source": [
    "model = SVC(kernel='linear')\n",
    "model.fit(X_train, y_train)"
   ]
  },
  {
   "cell_type": "code",
   "execution_count": null,
   "id": "19057104",
   "metadata": {},
   "outputs": [],
   "source": [
    "y_pred = model.predict(X_test)"
   ]
  },
  {
   "cell_type": "code",
   "execution_count": null,
   "id": "b9e2adae",
   "metadata": {},
   "outputs": [],
   "source": [
    "accuracy = accuracy_score(y_test,y_pred)\n",
    "print(\"Accuracy: \",accuracy*100)"
   ]
  },
  {
   "cell_type": "code",
   "execution_count": null,
   "id": "b0b16b7f",
   "metadata": {},
   "outputs": [],
   "source": [
    "import os\n",
    "import random"
   ]
  },
  {
   "cell_type": "code",
   "execution_count": null,
   "id": "516b8f6b",
   "metadata": {},
   "outputs": [],
   "source": [
    "def get_random_image(dataset_path):\n",
    "    image_files = [file for file in os.listdir('validationset') if file.endswith('.jpg') or file.endswith('.png') or file.endswith('.jpeg')]\n",
    "\n",
    "    #random image for testing\n",
    "    random_image = random.choice(image_files)\n",
    "    return os.path.join(dataset_path, random_image)"
   ]
  },
  {
   "cell_type": "code",
   "execution_count": null,
   "id": "02511e78",
   "metadata": {},
   "outputs": [],
   "source": [
    "dataset_path = 'validationset'\n",
    "random_image_path = get_random_image(dataset_path)\n",
    "#print(f\"Random image path: {random_image_path}\")"
   ]
  },
  {
   "cell_type": "code",
   "execution_count": null,
   "id": "dc00fbf0",
   "metadata": {},
   "outputs": [],
   "source": [
    "test_image_path = random_image_path  # Path to the test image file\n",
    "test_image = cv2.imread(test_image_path)\n",
    "test_image = cv2.resize(test_image, (100, 100)) \n",
    "test_image = np.array(test_image) / 255.0 \n",
    "test_image = test_image.reshape(1, -1) \n",
    "test_prediction = model.predict(test_image)\n",
    "if test_prediction == 1:\n",
    "    print(\"The test image contains a 'no parking' board.\")\n",
    "else:\n",
    "    print(\"The test image does not contain a 'no parking' board.\")"
   ]
  },
  {
   "cell_type": "code",
   "execution_count": null,
   "id": "5881a857",
   "metadata": {},
   "outputs": [],
   "source": [
    "test_image_path = 'no_parking1.jpg'  # Path to the test image file\n",
    "test_image = cv2.imread(test_image_path)\n",
    "test_image = cv2.resize(test_image, (100, 100)) \n",
    "test_image = np.array(test_image) / 255.0 \n",
    "test_image = test_image.reshape(1, -1) \n",
    "test_prediction = model.predict(test_image)\n",
    "if test_prediction == 1:\n",
    "    print(\"The test image contains a 'no parking' board.\")\n",
    "else:\n",
    "    print(\"The test image does not contain a 'no parking' board.\")"
   ]
  },
  {
   "cell_type": "code",
   "execution_count": null,
   "id": "57a32fa3",
   "metadata": {},
   "outputs": [],
   "source": [
    "import joblib\n",
    "\n",
    "# Assuming 'model' is the trained model object\n",
    "joblib.dump(model, 'model_filename.pkl')"
   ]
  },
  {
   "cell_type": "code",
   "execution_count": null,
   "id": "e378ccad",
   "metadata": {},
   "outputs": [],
   "source": [
    "import joblib\n",
    "\n",
    "model = joblib.load('model_filename.pkl')"
   ]
  }
 ],
 "metadata": {
  "kernelspec": {
   "display_name": "Python 3 (ipykernel)",
   "language": "python",
   "name": "python3"
  },
  "language_info": {
   "codemirror_mode": {
    "name": "ipython",
    "version": 3
   },
   "file_extension": ".py",
   "mimetype": "text/x-python",
   "name": "python",
   "nbconvert_exporter": "python",
   "pygments_lexer": "ipython3",
   "version": "3.9.11"
  }
 },
 "nbformat": 4,
 "nbformat_minor": 5
}
